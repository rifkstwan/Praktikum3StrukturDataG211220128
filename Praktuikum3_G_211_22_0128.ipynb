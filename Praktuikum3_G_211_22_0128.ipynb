{
  "nbformat": 4,
  "nbformat_minor": 0,
  "metadata": {
    "colab": {
      "provenance": []
    },
    "kernelspec": {
      "name": "python3",
      "display_name": "Python 3"
    },
    "language_info": {
      "name": "python"
    }
  },
  "cells": [
    {
      "cell_type": "code",
      "execution_count": null,
      "metadata": {
        "id": "-DMf-lawruKH"
      },
      "outputs": [],
      "source": [
        "def convert(input_list):\n",
        "    result = []\n",
        "\n",
        "    for char in input_list:\n",
        "        result.append(char)\n",
        "\n",
        "    return ''.join(result)\n",
        "\n",
        "# Contoh penggunaan\n",
        "input_list = ['p', 'r', 'o', 'g', 'r', 'a', 'm', 'm', 'i', 'n', 'g']\n",
        "output = convert(input_list)\n",
        "\n",
        "# Menampilkan output saja\n",
        "print(output)\n"
      ]
    }
  ]
}